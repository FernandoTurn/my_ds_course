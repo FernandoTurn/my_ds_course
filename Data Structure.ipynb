{
 "cells": [
  {
   "cell_type": "markdown",
   "metadata": {},
   "source": [
    "Exercise 1\n"
   ]
  },
  {
   "cell_type": "code",
   "execution_count": 3,
   "metadata": {},
   "outputs": [
    {
     "name": "stdout",
     "output_type": "stream",
     "text": [
      "['fernando', 'diego', 'gustavo', 'omer']\n",
      "['sandra', 'maria', 'julieta', 'shakira']\n"
     ]
    }
   ],
   "source": [
    "#list creation\n",
    "boys_names = ['fernando', 'diego', 'gustavo']\n",
    "girls_names = ['maria', 'julieta', 'shakira']\n",
    "\n",
    "#add records\n",
    "boys_names.append('omer')\n",
    "girls_names.insert(0,'sandra')\n",
    "\n",
    "#test\n",
    "print(boys_names)\n",
    "print(girls_names)"
   ]
  },
  {
   "cell_type": "code",
   "execution_count": null,
   "metadata": {
    "collapsed": true
   },
   "outputs": [],
   "source": [
    "#who's the bide?\n",
    "bride = girls_names.pop()\n",
    "print (bride)"
   ]
  },
  {
   "cell_type": "code",
   "execution_count": null,
   "metadata": {
    "collapsed": true
   },
   "outputs": [],
   "source": [
    "#who's the groom\n",
    "groom = boys_names.pop(0)\n",
    "print (groom)"
   ]
  },
  {
   "cell_type": "code",
   "execution_count": null,
   "metadata": {
    "collapsed": true,
    "scrolled": false
   },
   "outputs": [],
   "source": [
    " #remove last name (doesn't work and I dont know why)\n",
    "boys_names.remove([-1])\n",
    "    "
   ]
  },
  {
   "cell_type": "code",
   "execution_count": 4,
   "metadata": {
    "scrolled": true
   },
   "outputs": [
    {
     "data": {
      "text/plain": [
       "int"
      ]
     },
     "execution_count": 4,
     "metadata": {},
     "output_type": "execute_result"
    }
   ],
   "source": [
    "#Test using remove using variables\n",
    "#Step 1\n",
    "boys_names.extend(girls_names)\n",
    "everybody = boys_names\n",
    "everybody\n",
    "a=len(girls_names)\n",
    "type (a)\n"
   ]
  },
  {
   "cell_type": "code",
   "execution_count": 5,
   "metadata": {
    "scrolled": false
   },
   "outputs": [
    {
     "ename": "ValueError",
     "evalue": "list.remove(x): x not in list",
     "output_type": "error",
     "traceback": [
      "\u001b[1;31m---------------------------------------------------------------------------\u001b[0m",
      "\u001b[1;31mValueError\u001b[0m                                Traceback (most recent call last)",
      "\u001b[1;32m<ipython-input-5-b01e467fff4c>\u001b[0m in \u001b[0;36m<module>\u001b[1;34m()\u001b[0m\n\u001b[0;32m      1\u001b[0m \u001b[1;31m#Step 2\u001b[0m\u001b[1;33m\u001b[0m\u001b[1;33m\u001b[0m\u001b[0m\n\u001b[1;32m----> 2\u001b[1;33m \u001b[0mboys_names\u001b[0m \u001b[1;33m=\u001b[0m \u001b[0mgirls_names\u001b[0m\u001b[1;33m.\u001b[0m\u001b[0mremove\u001b[0m\u001b[1;33m(\u001b[0m\u001b[0ma\u001b[0m\u001b[1;33m)\u001b[0m\u001b[1;33m\u001b[0m\u001b[0m\n\u001b[0m\u001b[0;32m      3\u001b[0m \u001b[1;33m\u001b[0m\u001b[0m\n",
      "\u001b[1;31mValueError\u001b[0m: list.remove(x): x not in list"
     ]
    }
   ],
   "source": [
    "#Step 2\n",
    "boys_names = girls_names.remove(a)\n",
    "\n"
   ]
  },
  {
   "cell_type": "code",
   "execution_count": null,
   "metadata": {
    "collapsed": true
   },
   "outputs": [],
   "source": []
  },
  {
   "cell_type": "code",
   "execution_count": null,
   "metadata": {
    "collapsed": true
   },
   "outputs": [],
   "source": [
    "everybody = [boys_names + girls_names]\n",
    "print(everybody)"
   ]
  },
  {
   "cell_type": "markdown",
   "metadata": {},
   "source": [
    "Exercise 2"
   ]
  },
  {
   "cell_type": "code",
   "execution_count": null,
   "metadata": {
    "collapsed": true
   },
   "outputs": [],
   "source": [
    "#create variables\n",
    "fernando = ['fernando',43,True]\n",
    "diego = ['diego',40,True]\n",
    "gustavo = ['gustavo',38,True]\n",
    "print (fernando)"
   ]
  },
  {
   "cell_type": "code",
   "execution_count": null,
   "metadata": {
    "collapsed": true
   },
   "outputs": [],
   "source": [
    "#modify age of gustavo\n",
    "gustavo[1]=39\n",
    "print(gustavo)"
   ]
  },
  {
   "cell_type": "code",
   "execution_count": null,
   "metadata": {
    "collapsed": true
   },
   "outputs": [],
   "source": [
    "guys = [fernando, diego, gustavo]\n",
    "\n",
    "jorge = ['jorge', 72, True]\n",
    "guys.append(jorge)\n",
    "\n",
    "#modify age of jorge from list guys\n",
    "guys[-1] [1]= 75\n",
    "print(guys)"
   ]
  },
  {
   "cell_type": "code",
   "execution_count": null,
   "metadata": {
    "collapsed": true
   },
   "outputs": [],
   "source": [
    "#remove one of the elements\n",
    "#using pop()\n",
    "guys.pop(-1)\n",
    "print(guys)\n",
    "#using remove()\n",
    "guys.remove(fernando)\n",
    "print(guys)"
   ]
  },
  {
   "cell_type": "markdown",
   "metadata": {},
   "source": [
    "Excercise 3"
   ]
  },
  {
   "cell_type": "code",
   "execution_count": null,
   "metadata": {},
   "outputs": [],
   "source": [
    "#create sentence\n",
    "this_is_a_wonderfull_language = 'This is a wonderfull language'\n",
    "#convert to list\n",
    "converted_to_list = this_is_a_wonderfull_language.split()\n",
    "#last step\n",
    "last_step= '\\n'.join(converted_to_list)\n",
    "print(last_step)"
   ]
  },
  {
   "cell_type": "code",
   "execution_count": null,
   "metadata": {},
   "outputs": [],
   "source": [
    "#number of m's\n",
    "#using count()\n",
    "this_is_a_wonderfull_language.count('m')\n",
    "#without count()\n",
    "memes = len(this_is_a_wonderfull_language.split('m'))-1\n",
    "print(memes)"
   ]
  },
  {
   "cell_type": "code",
   "execution_count": null,
   "metadata": {
    "collapsed": true
   },
   "outputs": [],
   "source": []
  },
  {
   "cell_type": "code",
   "execution_count": null,
   "metadata": {
    "collapsed": true
   },
   "outputs": [],
   "source": []
  }
 ],
 "metadata": {
  "kernelspec": {
   "display_name": "Python 3",
   "language": "python",
   "name": "python3"
  },
  "language_info": {
   "codemirror_mode": {
    "name": "ipython",
    "version": 3
   },
   "file_extension": ".py",
   "mimetype": "text/x-python",
   "name": "python",
   "nbconvert_exporter": "python",
   "pygments_lexer": "ipython3",
   "version": "3.6.3"
  }
 },
 "nbformat": 4,
 "nbformat_minor": 2
}
