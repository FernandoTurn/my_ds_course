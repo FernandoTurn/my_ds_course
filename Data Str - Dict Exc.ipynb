{
 "cells": [
  {
   "cell_type": "markdown",
   "metadata": {},
   "source": [
    "# Dictionary Excersices"
   ]
  },
  {
   "cell_type": "markdown",
   "metadata": {},
   "source": [
    "### Excersice 1 "
   ]
  },
  {
   "cell_type": "code",
   "execution_count": 16,
   "metadata": {},
   "outputs": [
    {
     "data": {
      "text/plain": [
       "{'a': ['sasha', 'sushi'],\n",
       " 'b': ['banana', 'nana'],\n",
       " 'c': ['no', 'pain', 'no gain']}"
      ]
     },
     "execution_count": 16,
     "metadata": {},
     "output_type": "execute_result"
    }
   ],
   "source": [
    "# create dictionary\n",
    "dict1 = {'a' : ['sasha', 'sushi'],\n",
    "         'b' : ['banana', 'nana'],\n",
    "         'c' : ['no', 'pain', 'no gain']}\n",
    "dict1\n"
   ]
  },
  {
   "cell_type": "code",
   "execution_count": 17,
   "metadata": {
    "scrolled": false
   },
   "outputs": [
    {
     "data": {
      "text/plain": [
       "{'a': ['sasha', 'sushi', 'sveta'],\n",
       " 'b': ['banana', 'nana', 'rana'],\n",
       " 'c': ['no', 'pain', 'no gain']}"
      ]
     },
     "execution_count": 17,
     "metadata": {},
     "output_type": "execute_result"
    }
   ],
   "source": [
    "#append data\n",
    "dict1['a'].append('sveta') \n",
    "dict1 ['b'].append('rana')\n",
    "dict1"
   ]
  },
  {
   "cell_type": "code",
   "execution_count": 18,
   "metadata": {},
   "outputs": [
    {
     "data": {
      "text/plain": [
       "{'a': ['sasha', 'sushi', 'sveta'],\n",
       " 'b': ['banana', 'nana', 'rana'],\n",
       " 'c': ['no', 'pain', 'no gain'],\n",
       " 'd': ['time is an excuse']}"
      ]
     },
     "execution_count": 18,
     "metadata": {},
     "output_type": "execute_result"
    }
   ],
   "source": [
    "#append item\n",
    "dict1['d'] = ['time is an excuse']\n",
    "dict1"
   ]
  },
  {
   "cell_type": "code",
   "execution_count": 19,
   "metadata": {},
   "outputs": [
    {
     "data": {
      "text/plain": [
       "{'b': ['banana', 'nana', 'rana'],\n",
       " 'c': ['no', 'pain', 'no gain'],\n",
       " 'd': ['time is an excuse']}"
      ]
     },
     "execution_count": 19,
     "metadata": {},
     "output_type": "execute_result"
    }
   ],
   "source": [
    "#remove an item\n",
    "dict1.pop('a')\n",
    "dict1"
   ]
  },
  {
   "cell_type": "code",
   "execution_count": 20,
   "metadata": {},
   "outputs": [
    {
     "data": {
      "text/plain": [
       "[['banana', 'nana', 'rana'], ['no', 'pain', 'no gain'], ['time is an excuse']]"
      ]
     },
     "execution_count": 20,
     "metadata": {},
     "output_type": "execute_result"
    }
   ],
   "source": [
    "#create list fernando\n",
    "fernando = list(dict1.values())\n",
    "fernando"
   ]
  },
  {
   "cell_type": "markdown",
   "metadata": {},
   "source": [
    "### Excersice 2"
   ]
  },
  {
   "cell_type": "code",
   "execution_count": 26,
   "metadata": {
    "collapsed": true
   },
   "outputs": [],
   "source": [
    "# South America\n",
    "uruguay_cities = ['Montevideo', 'Salto']\n",
    "argentina_cities = ['Buenos Aires', 'Rosario']\n",
    "\n",
    "# North America\n",
    "us_cities = ['Los Angeles', 'Miami']\n",
    "canada_cities = ['Montreal', 'Victoria']\n"
   ]
  },
  {
   "cell_type": "code",
   "execution_count": 29,
   "metadata": {},
   "outputs": [
    {
     "data": {
      "text/plain": [
       "{'Argentina': ['Buenos Aires', 'Rosario'], 'Uruguay': ['Montevideo', 'Salto']}"
      ]
     },
     "execution_count": 29,
     "metadata": {},
     "output_type": "execute_result"
    }
   ],
   "source": [
    "# create South America dictionary\n",
    "South_America = {}\n",
    "South_America['Uruguay'] = uruguay_cities\n",
    "South_America['Argentina'] = argentina_cities\n",
    "South_America"
   ]
  },
  {
   "cell_type": "code",
   "execution_count": 31,
   "metadata": {},
   "outputs": [
    {
     "data": {
      "text/plain": [
       "{'Canada': ['Montreal', 'Victoria'], 'USA': ['Los Angeles', 'Miami']}"
      ]
     },
     "execution_count": 31,
     "metadata": {},
     "output_type": "execute_result"
    }
   ],
   "source": [
    "# create North America dictionary\n",
    "North_America = {}\n",
    "North_America['USA']= us_cities\n",
    "North_America['Canada']= canada_cities\n",
    "North_America"
   ]
  },
  {
   "cell_type": "code",
   "execution_count": 34,
   "metadata": {
    "scrolled": true
   },
   "outputs": [
    {
     "data": {
      "text/plain": [
       "{'North America': {'Canada': ['Montreal', 'Victoria'],\n",
       "  'USA': ['Los Angeles', 'Miami']},\n",
       " 'South America': {'Argentina': ['Buenos Aires', 'Rosario'],\n",
       "  'Uruguay': ['Montevideo', 'Salto']}}"
      ]
     },
     "execution_count": 34,
     "metadata": {},
     "output_type": "execute_result"
    }
   ],
   "source": [
    "# America Dictionary (sorry central america friends, too much work to add you)\n",
    "america_dict= {'South America': South_America, 'North America': North_America}\n",
    "america_dict"
   ]
  },
  {
   "cell_type": "markdown",
   "metadata": {},
   "source": [
    "# SETS Excersices"
   ]
  },
  {
   "cell_type": "markdown",
   "metadata": {},
   "source": [
    "### Excersice 1 "
   ]
  },
  {
   "cell_type": "code",
   "execution_count": 36,
   "metadata": {},
   "outputs": [
    {
     "data": {
      "text/plain": [
       "8"
      ]
     },
     "execution_count": 36,
     "metadata": {},
     "output_type": "execute_result"
    }
   ],
   "source": [
    "#create strings\n",
    "first = 'dfsagiasdkfghdskasdkndajalsd'\n",
    "second = 'ajsddhagyfoefaskdasdkaadafd'\n",
    "# len of intersection\n",
    "a = len(set(first) & set(second))\n",
    "a"
   ]
  },
  {
   "cell_type": "markdown",
   "metadata": {},
   "source": [
    "### Excersice 2"
   ]
  },
  {
   "cell_type": "code",
   "execution_count": 40,
   "metadata": {
    "collapsed": true
   },
   "outputs": [],
   "source": [
    "# Data Input\n",
    "sunday_visitors = ['abe', 'bob', 'carl', 'dave', 'ed',\n",
    "                   'heinrich', 'isabel', 'abe', 'fred']\n",
    "monday_visitors = ['abe', 'gale', 'ed', 'fred']\n",
    "tuesday_visitors = ['ed', 'bob', 'jack', 'fred', 'abe',\n",
    "                    'abe', 'jack', 'kent', 'gale']"
   ]
  },
  {
   "cell_type": "code",
   "execution_count": 49,
   "metadata": {},
   "outputs": [
    {
     "data": {
      "text/plain": [
       "{'abe',\n",
       " 'bob',\n",
       " 'carl',\n",
       " 'dave',\n",
       " 'ed',\n",
       " 'fred',\n",
       " 'gale',\n",
       " 'heinrich',\n",
       " 'isabel',\n",
       " 'jack',\n",
       " 'kent'}"
      ]
     },
     "execution_count": 49,
     "metadata": {},
     "output_type": "execute_result"
    }
   ],
   "source": [
    "#unique visitors using sets - exludes repetions\n",
    "sund_visitors = set(sunday_visitors)\n",
    "mond_visitors = set(monday_visitors)\n",
    "tues_visitors = set(tuesday_visitors)\n",
    "#unique visitors on the week solution U all the sets creating a new one\n",
    "visitors = sund_visitors | mond_visitors | tues_visitors\n",
    "#print(sund_visitors, mond_visitors, tues_visitors)\n",
    "visitors"
   ]
  },
  {
   "cell_type": "code",
   "execution_count": 50,
   "metadata": {},
   "outputs": [
    {
     "name": "stdout",
     "output_type": "stream",
     "text": [
      "False\n",
      "True\n",
      "False\n"
     ]
    }
   ],
   "source": [
    "# Question two - math expresion for included <\n",
    "print(sund_visitors < mond_visitors | tues_visitors)\n",
    "print(mond_visitors < sund_visitors | tues_visitors)\n",
    "print(tues_visitors < mond_visitors | tues_visitors)"
   ]
  },
  {
   "cell_type": "code",
   "execution_count": 64,
   "metadata": {},
   "outputs": [],
   "source": [
    "# Question three - intersection\n",
    "bored_people = sund_visitors & mond_visitors & tues_visitors\n",
    "\n",
    "not_so_bored = sund_visitors & mond_visitors | mond_visitors & tues_visitors | sund_visitors & tues_visitors\n"
   ]
  },
  {
   "cell_type": "code",
   "execution_count": 66,
   "metadata": {},
   "outputs": [
    {
     "data": {
      "text/plain": [
       "{'carl', 'dave', 'heinrich', 'isabel', 'jack', 'kent'}"
      ]
     },
     "execution_count": 66,
     "metadata": {},
     "output_type": "execute_result"
    }
   ],
   "source": [
    "# Question four - ^\n",
    "only_tues = tues_visitors ^ (sund_visitors | mond_visitors)\n",
    "only_tues"
   ]
  },
  {
   "cell_type": "code",
   "execution_count": null,
   "metadata": {
    "collapsed": true
   },
   "outputs": [],
   "source": [
    "# Question five - I dont even understand the question "
   ]
  }
 ],
 "metadata": {
  "kernelspec": {
   "display_name": "Python 3",
   "language": "python",
   "name": "python3"
  },
  "language_info": {
   "codemirror_mode": {
    "name": "ipython",
    "version": 3
   },
   "file_extension": ".py",
   "mimetype": "text/x-python",
   "name": "python",
   "nbconvert_exporter": "python",
   "pygments_lexer": "ipython3",
   "version": "3.6.3"
  }
 },
 "nbformat": 4,
 "nbformat_minor": 2
}
