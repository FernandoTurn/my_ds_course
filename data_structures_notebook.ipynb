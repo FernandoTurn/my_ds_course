{
 "cells": [
  {
   "cell_type": "markdown",
   "metadata": {},
   "source": [
    "# Data structures"
   ]
  },
  {
   "cell_type": "markdown",
   "metadata": {},
   "source": [
    "In many cases the data we work with has to be organized. This is obvious when we talk about tables and databases, but it is not less crucial when we deal even with the simplest data objects. Every program language provides its programmers with many built-in data structrues to allow this \"organization\". It is up to us, though, to use the most appropriate structure for each task.\n",
    "\n",
    "Similar to the data types, each data structure supports specific operations, which are optimized to its characteristics. Python provides several dozens of built-in data structures, and in this chapter we will learn about the most notable four:\n",
    "\n",
    "* list\n",
    "* tuple\n",
    "* dictionary\n",
    "* set\n",
    "\n",
    "As noted earlier, one of the most important characteristics of a data structure is its (im)mutability, therefore it is important to keep in mind which data structure is mutable and which is not."
   ]
  },
  {
   "cell_type": "markdown",
   "metadata": {},
   "source": [
    "## Lists"
   ]
  },
  {
   "cell_type": "markdown",
   "metadata": {},
   "source": [
    "_list_ is a sequence of elements. That's it."
   ]
  },
  {
   "cell_type": "markdown",
   "metadata": {},
   "source": [
    "To create a list we usually use the [ ] constructor, either with or without elements (if elements are especified, they are separated with commas). Alternatively we can use the _list()_ function, but this is useful in some specific scenarios. The elements don't have to be of the same type, and they can even be of type _list_ themselves."
   ]
  },
  {
   "cell_type": "code",
   "execution_count": null,
   "metadata": {
    "collapsed": true
   },
   "outputs": [],
   "source": [
    "list0 = []\n",
    "\n",
    "list1 = [1, 4.2, 'House', 2.8,\n",
    "         False,['a', False, 1, 'book'],\n",
    "         5.331, 'dog']"
   ]
  },
  {
   "cell_type": "markdown",
   "metadata": {},
   "source": [
    "### Common sequence operations"
   ]
  },
  {
   "cell_type": "markdown",
   "metadata": {},
   "source": [
    "Lists are sequences, so they support all the sequences operations we already met when we learned about strings. These include indexing and slicing, the _len()_ function, the _in_ operator, concatenation with the '+' sign, the _index()_ method, etc. "
   ]
  },
  {
   "cell_type": "markdown",
   "metadata": {},
   "source": [
    "#### Indexing and slicing"
   ]
  },
  {
   "cell_type": "code",
   "execution_count": null,
   "metadata": {
    "collapsed": true
   },
   "outputs": [],
   "source": [
    "print(len(list1))\n",
    "print(list1[0])\n",
    "print(list1[6]) \n",
    "print(list1[-3])\n",
    "print(list1[-1])"
   ]
  },
  {
   "cell_type": "code",
   "execution_count": null,
   "metadata": {
    "collapsed": true
   },
   "outputs": [],
   "source": [
    "print(list1[4:6])\n",
    "print(list1[-3:-1])\n",
    "print(list1[:4]) \n",
    "print(list1[6:]) "
   ]
  },
  {
   "cell_type": "markdown",
   "metadata": {},
   "source": [
    "It should be noted that when we refer to a list as an element of a list, then we should use **chained indexing** and not think of it as a two-dimensional object."
   ]
  },
  {
   "cell_type": "code",
   "execution_count": null,
   "metadata": {
    "collapsed": true
   },
   "outputs": [],
   "source": [
    "print(list1[5][3])"
   ]
  },
  {
   "cell_type": "code",
   "execution_count": null,
   "metadata": {
    "collapsed": true,
    "scrolled": true
   },
   "outputs": [],
   "source": [
    "print(list1[5, 3])"
   ]
  },
  {
   "cell_type": "markdown",
   "metadata": {},
   "source": [
    "Unlike strings, lists are **mutable** objects, and they can be assigned values using the same indexing notation."
   ]
  },
  {
   "cell_type": "code",
   "execution_count": null,
   "metadata": {
    "collapsed": true
   },
   "outputs": [],
   "source": [
    "print(list1)\n",
    "list1[2] = 3.42\n",
    "print(list1)\n",
    "list1[2:4] = [1, 2.4]\n",
    "print(list1)\n",
    "list1[-2] = [777]\n",
    "print(list1)\n",
    "list1[2] = 'Blah Blah'\n",
    "print(list1)"
   ]
  },
  {
   "cell_type": "markdown",
   "metadata": {},
   "source": [
    "#### Other operations"
   ]
  },
  {
   "cell_type": "code",
   "execution_count": null,
   "metadata": {
    "collapsed": true
   },
   "outputs": [],
   "source": [
    "my_details = ['Amit', 'Rappel', 'm', 34, 'Kfar Saba', True, 1.76]\n",
    "her_details = ['Marilyn', 'Monroe', 'f', 36, 'Los Angeles', True, 1.57]"
   ]
  },
  {
   "cell_type": "code",
   "execution_count": null,
   "metadata": {
    "collapsed": true
   },
   "outputs": [],
   "source": [
    "print(len(my_details))"
   ]
  },
  {
   "cell_type": "code",
   "execution_count": null,
   "metadata": {
    "collapsed": true
   },
   "outputs": [],
   "source": [
    "print('Monroe' in her_details)\n",
    "print('Monro' in her_details)\n",
    "print(['Monroe'] in her_details)"
   ]
  },
  {
   "cell_type": "code",
   "execution_count": null,
   "metadata": {
    "collapsed": true
   },
   "outputs": [],
   "source": [
    "print(my_details + her_details)"
   ]
  },
  {
   "cell_type": "code",
   "execution_count": null,
   "metadata": {
    "collapsed": true
   },
   "outputs": [],
   "source": [
    "print(my_details.index(34))"
   ]
  },
  {
   "cell_type": "markdown",
   "metadata": {},
   "source": [
    "### Common _list_ methods"
   ]
  },
  {
   "cell_type": "markdown",
   "metadata": {},
   "source": [
    "_lists_ support several useful methods which allow to modify their content. The full list of methods can be found [here][list methods], but the most common ones are:\n",
    "\n",
    "* _append(x)_ - adds the element _x_ at the end of the list\n",
    "* _insert(i, x)_ insert the element _x_ at the _i_-th place\n",
    "* _extend(iter)_ - concatenate the elements of _iter_ to the list\n",
    "* _pop([i])_ - remove the _i_-th element from the list (if _i_ is not specified, then remove the last element)\n",
    "* _remove(x)_ - remove the element _x_ from the list\n",
    "\n",
    "This is another good point to recall the mutability charateristic of lists. All the methods above modify **in-place** the list object that called them and do **not** return the modified list. What they do return is _None_.\n",
    "\n",
    "[list methods]: https://docs.python.org/2/library/stdtypes.html#mutable-sequence-types \"Python documentation for lists methods\""
   ]
  },
  {
   "cell_type": "markdown",
   "metadata": {},
   "source": [
    "#### append(), insert() & extend()"
   ]
  },
  {
   "cell_type": "code",
   "execution_count": 4,
   "metadata": {},
   "outputs": [
    {
     "name": "stdout",
     "output_type": "stream",
     "text": [
      "temp = None ; list1 = ['Aa', 'Bb', 'Dd']\n",
      "temp = None ; list1 = ['Aa', 'Bb', 'Cc', 'Dd']\n",
      "temp = None ; list1 = ['Aa', 'Bb', 'Cc', 'Dd', 'Ee', 'Ff']\n"
     ]
    }
   ],
   "source": [
    "list1 = ['Aa', 'Bb']\n",
    "\n",
    "temp = list1.append('Dd') \n",
    "print(\"temp =\", temp, \"; list1 =\", list1)\n",
    "\n",
    "temp = list1.insert(2, 'Cc')\n",
    "print(\"temp =\", temp, \"; list1 =\", list1)\n",
    "\n",
    "temp = list1.extend(['Ee', 'Ff'])\n",
    "print(\"temp =\", temp, \"; list1 =\", list1)"
   ]
  },
  {
   "cell_type": "markdown",
   "metadata": {},
   "source": [
    "_append()_ and _extend()_ tend to confuse people, so be careful."
   ]
  },
  {
   "cell_type": "code",
   "execution_count": 5,
   "metadata": {},
   "outputs": [
    {
     "name": "stdout",
     "output_type": "stream",
     "text": [
      "['Aa']\n",
      "['Aa', 'Bb']\n",
      "['Aa', 'Bb', ['Cc']]\n"
     ]
    }
   ],
   "source": [
    "list1 = ['Aa']\n",
    "print(list1)\n",
    "list1.append('Bb')\n",
    "print(list1)\n",
    "list1.append(['Cc'])\n",
    "print(list1)"
   ]
  },
  {
   "cell_type": "code",
   "execution_count": null,
   "metadata": {
    "collapsed": true
   },
   "outputs": [],
   "source": [
    "list1.extend(['D', 'd'])\n",
    "print(list1)"
   ]
  },
  {
   "cell_type": "code",
   "execution_count": null,
   "metadata": {
    "collapsed": true
   },
   "outputs": [],
   "source": [
    "list1.extend(123)\n",
    "print(list1)"
   ]
  },
  {
   "cell_type": "markdown",
   "metadata": {},
   "source": [
    "#### pop() & remove()"
   ]
  },
  {
   "cell_type": "markdown",
   "metadata": {},
   "source": [
    "Note that _pop()_ returns the value of the popped item and **not** the modified list."
   ]
  },
  {
   "cell_type": "code",
   "execution_count": null,
   "metadata": {
    "collapsed": true
   },
   "outputs": [],
   "source": [
    "list1 = ['Aa', 'Bb', 'Cc', 'Dd', 'Ee']\n",
    "output = list1.pop(2)\n",
    "print(output)\n",
    "print(list1)\n",
    "\n",
    "list1.pop()\n",
    "print(list1)\n",
    "\n",
    "list1.remove('Aa')\n",
    "print(list1)"
   ]
  },
  {
   "cell_type": "markdown",
   "metadata": {},
   "source": [
    "### Lists and strings - join() and split()"
   ]
  },
  {
   "cell_type": "markdown",
   "metadata": {},
   "source": [
    "It is very common to switch from strings to lists and vice versa, so it is useful to be proficient with the relevant methods:\n",
    "\n",
    "* _string_ $\\longrightarrow$ _list_:\n",
    "    * s._split([sep])_ - splits the string _s_ by _sep_ occurrences and returns a list of strings from the splitted parts\n",
    "    * _list(str)_ - returns a list of all the characters of _str_\n",
    "* _list_ $\\longrightarrow$ _str_:\n",
    "    * _sep.join(lst)_ - concatenates the elements of _lst_ (assuming they are all strings), and separates them by _sep_\n",
    "    * _str(lst)_ - unfortunately this is not possible...\n",
    "    \n",
    "Another word of warning - many students are confused by _join()_. Try to beat the statistics."
   ]
  },
  {
   "cell_type": "code",
   "execution_count": null,
   "metadata": {
    "collapsed": true
   },
   "outputs": [],
   "source": [
    "sentence = 'I love you.'"
   ]
  },
  {
   "cell_type": "code",
   "execution_count": null,
   "metadata": {
    "collapsed": true
   },
   "outputs": [],
   "source": [
    "print(sentence.split())\n",
    "print(sentence.split('o'))\n",
    "print(list(sentence))"
   ]
  },
  {
   "cell_type": "code",
   "execution_count": null,
   "metadata": {
    "collapsed": true
   },
   "outputs": [],
   "source": [
    "print('#'.join(sentence.split()))\n",
    "print('#'.join(sentence.split('o')))       \n",
    "print('\\n'.join(sentence.split()))"
   ]
  },
  {
   "cell_type": "markdown",
   "metadata": {},
   "source": [
    "### The function _range()_"
   ]
  },
  {
   "cell_type": "markdown",
   "metadata": {},
   "source": [
    "Along the course we will see many functions that create lists. The function _range()_ is a very common and simple tool for creating lists of integers. It supports three modes of calls, as shown below."
   ]
  },
  {
   "cell_type": "code",
   "execution_count": null,
   "metadata": {
    "collapsed": true
   },
   "outputs": [],
   "source": [
    "print(list(range(7)))"
   ]
  },
  {
   "cell_type": "code",
   "execution_count": null,
   "metadata": {
    "collapsed": true
   },
   "outputs": [],
   "source": [
    "print(list(range(3, 9)))"
   ]
  },
  {
   "cell_type": "code",
   "execution_count": null,
   "metadata": {
    "collapsed": true
   },
   "outputs": [],
   "source": [
    "print(list(range(3, 9, 2)))\n",
    "print(list(range(3, 10, 2)))"
   ]
  },
  {
   "cell_type": "markdown",
   "metadata": {},
   "source": [
    "### Exercise 1"
   ]
  },
  {
   "cell_type": "markdown",
   "metadata": {},
   "source": [
    "1.\tCreate two lists of strings:\n",
    "    * _boys_ with 3 names of boys\n",
    "    * _girls_ with 3 names of girls.\n",
    "2.\tDo the following with list methods:\n",
    "    * Use _append()_ to add _boys_ a 4th name at the end.\n",
    "    * Use _insert()_ to add _girls_ a 4th name at the beginning.\n",
    "    * Use _pop()_ to remove from _girls_ the last name and assign it to a variable called _bride_.\n",
    "    * Use _pop()_ to remove from _boys_ the first name and assign it to a variable called _groom_.\n",
    "    * Use _remove()_ to remove the last name from boys.\n",
    "        * Can you do it without knowing the actual name of the last boy.\n",
    "    * Create a **new** list called _names_, which is the concatenation of _boys_ and _girls_.\n",
    "        * Why will _extend()_ not do the job?"
   ]
  },
  {
   "cell_type": "markdown",
   "metadata": {},
   "source": [
    "### Exercise 2"
   ]
  },
  {
   "cell_type": "markdown",
   "metadata": {},
   "source": [
    "1. Create three variables of type list representing three guys. Each list should be of the form [name (string), age (int), married (Boolean)]. Give the lists proper variable names.\n",
    "2. Modify the age of one of the guys. Note that lists are mutable, so you can do that using direct assignment and there is no need to recreate the entire list.\n",
    "3. Create a **new** list called _guys_, whose elements are the three lists you’ve created. Note that you've created a list of lists.\n",
    "4. Create a list for another \"guy\" and append it to _guys_.\n",
    "5. Modify the age of one of the guys in _guys_. Again - remember that _guys_ is mutable, so you can \"access\" its elements and modify them directly.\n",
    "6. Remove one of the elements of _guys_ with two different methods:\n",
    "    * using pop()\n",
    "    * using remove()"
   ]
  },
  {
   "cell_type": "markdown",
   "metadata": {},
   "source": [
    "### Exercise 3"
   ]
  },
  {
   "cell_type": "markdown",
   "metadata": {},
   "source": [
    "1. Write a sentence (string) and assign it to a variable called _sentence_. \n",
    "2. Print your sentence, so that every word is printed in a new line.\n",
    "3. Count how many times the letter ‘m’ appears in _sentence_ in two differnt ways:\n",
    "    * by using the string method count().\n",
    "    * without using the string method count()."
   ]
  },
  {
   "cell_type": "markdown",
   "metadata": {},
   "source": [
    "## Tuples"
   ]
  },
  {
   "cell_type": "markdown",
   "metadata": {},
   "source": [
    "Tuples are the **immutable** version of lists.\n",
    "\n",
    "To create a tuple we usually use the ( ) constructor, either with or without elements (if elements are especified, they are separated with commas). Alternatively we can use the _tuple()_ function. The elements don't have to be of the same type, but they do have to be immutable themselves (violating this rule will not raise an error, but it is beyond the scope of this course to understand the meaning of doing something like that).\n",
    "\n",
    "As a sequencial data type, _tuples_ support all the related methods, but none of the in-place methods is valid."
   ]
  },
  {
   "cell_type": "code",
   "execution_count": null,
   "metadata": {
    "collapsed": true
   },
   "outputs": [],
   "source": [
    "tuple1 = (1, 4.2, 'House', 2.8,\n",
    "          False, ('a', False, 1, 'book'),\n",
    "          5.331, 'dog')"
   ]
  },
  {
   "cell_type": "code",
   "execution_count": null,
   "metadata": {
    "collapsed": true
   },
   "outputs": [],
   "source": [
    "print(len(tuple1))\n",
    "print(tuple1[3:6])\n",
    "print('dog' in tuple1)\n",
    "print(tuple1.index(2.8))"
   ]
  },
  {
   "cell_type": "markdown",
   "metadata": {},
   "source": [
    "Tuples do not support assignment"
   ]
  },
  {
   "cell_type": "code",
   "execution_count": null,
   "metadata": {
    "collapsed": true
   },
   "outputs": [],
   "source": [
    "tuple1[5] = 3.2"
   ]
  },
  {
   "cell_type": "code",
   "execution_count": null,
   "metadata": {
    "collapsed": true
   },
   "outputs": [],
   "source": [
    "tuple1.append(3.2)"
   ]
  },
  {
   "cell_type": "markdown",
   "metadata": {},
   "source": [
    "### When to use _list_ and when to use _tuple_?"
   ]
  },
  {
   "cell_type": "markdown",
   "metadata": {},
   "source": [
    "Even though you might not understand the big difference between the two data structures right now, it will become very intuitive later, when the concept of mutability will be fully understood.\n",
    "\n",
    "Lists are used when the data itself is constantly changing during the execution. Some example are guests in a party, records in a database, dates when something happened, etc. Tuples are used when the data cannot be changed, which is frequently the case for meta-data. Some examples are personal details, coordinates, etc."
   ]
  },
  {
   "cell_type": "markdown",
   "metadata": {},
   "source": [
    "## Dictionaries"
   ]
  },
  {
   "cell_type": "markdown",
   "metadata": {},
   "source": [
    "_dict_ is a mapping object made of **items**, each of which is made of a **key** and a **value**.\n",
    "\n",
    "To create a dictionary we usually use the { } constructor, either with or without elements (if elements are specified, they are separated by commas, and each of them is separated with a colon (e.g., _key: value_)). Alternatively we can use the _dict()_ function, but this is useful in some specific scenarios."
   ]
  },
  {
   "cell_type": "code",
   "execution_count": null,
   "metadata": {
    "collapsed": true
   },
   "outputs": [],
   "source": [
    "dict0 = {}\n",
    "\n",
    "dict1 = {1879: 'Albert Einstein was born',\n",
    "         1914: 'World-War 1'}\n",
    "\n",
    "dict2 = {1939: 'World-War 2',\n",
    "         1948: 'Israel declaration of independence'}\n",
    "\n",
    "dict3 = {'Fruits': ['Apple', 'Banana', 'Orange'],\n",
    "         'Vegetables': ['Tomato', 'Cucumber', 'Onion'],\n",
    "         'Other': ['Meat', 'Bread', 'Rice']}"
   ]
  },
  {
   "cell_type": "markdown",
   "metadata": {},
   "source": [
    "Dictionaries are designed to be an unordered data structure, thus **there is no order to dictionary elements**, and it is a very bad practice to rely on such order when writing a code. To illustrate that, we can see that printing the dictionaries from above may print them in a different order than the one in the construction."
   ]
  },
  {
   "cell_type": "code",
   "execution_count": null,
   "metadata": {
    "collapsed": true
   },
   "outputs": [],
   "source": [
    "print(dict1)\n",
    "print(dict2)"
   ]
  },
  {
   "cell_type": "markdown",
   "metadata": {},
   "source": [
    "By definition, the keys of a dictionary must be unique and immutable (the actual requirement is called **hashable**, but we will not get into it in this course), but there are no limitations about the values."
   ]
  },
  {
   "cell_type": "code",
   "execution_count": null,
   "metadata": {
    "collapsed": true
   },
   "outputs": [],
   "source": [
    "bad_dict_1 = {'Boris': 'Metula', 'Alex': 'Jerusalem', 'Genadi': 'Rehovot', 'Alex': 'Yeruham'}\n",
    "print(bad_dict_1)"
   ]
  },
  {
   "cell_type": "code",
   "execution_count": null,
   "metadata": {
    "collapsed": true
   },
   "outputs": [],
   "source": [
    "bad_dict_2 = {['pen', 'pencil', 'brush']: 'writing',\n",
    "              ['piano', 'trumpet', 'drum']: 'playing',\n",
    "              ['dog', 'cat', 'mouse']: 'animals'}"
   ]
  },
  {
   "cell_type": "markdown",
   "metadata": {},
   "source": [
    "Like for lists, the [ ] syntax is used for getting and setting items of the dictionary (we are going to see that this is the standard syntax for all data structures). The \"communication\" with dictionaries is done through its keys."
   ]
  },
  {
   "cell_type": "code",
   "execution_count": null,
   "metadata": {
    "collapsed": true
   },
   "outputs": [],
   "source": [
    "print(dict1[1879])\n",
    "print(dict3['Fruits'])\n",
    "print(dict3['Fruits'][1])"
   ]
  },
  {
   "cell_type": "code",
   "execution_count": null,
   "metadata": {
    "collapsed": true
   },
   "outputs": [],
   "source": [
    "dict1['1492'] = 'Christopher Columbus finds the new world'\n",
    "print(dict1)"
   ]
  },
  {
   "cell_type": "markdown",
   "metadata": {},
   "source": [
    "Calling a non-existent key raises an error."
   ]
  },
  {
   "cell_type": "code",
   "execution_count": null,
   "metadata": {
    "collapsed": true
   },
   "outputs": [],
   "source": [
    "print(dict2[1])"
   ]
  },
  {
   "cell_type": "markdown",
   "metadata": {},
   "source": [
    "It worth noting that the mutability of dictionaries is also evident from the fact you can modify its \"inner\" elements. "
   ]
  },
  {
   "cell_type": "code",
   "execution_count": null,
   "metadata": {
    "collapsed": true
   },
   "outputs": [],
   "source": [
    "dict3['Fruits'].append('Peach')\n",
    "print(dict3)"
   ]
  },
  {
   "cell_type": "markdown",
   "metadata": {},
   "source": [
    "### Common operations"
   ]
  },
  {
   "cell_type": "markdown",
   "metadata": {},
   "source": [
    "#### _keys()_, _values()_ & _items()_"
   ]
  },
  {
   "cell_type": "markdown",
   "metadata": {},
   "source": [
    "The three most important methods of dictionaries are _keys()_, _values()_ and _items()_, which all return lists containing the relevant data (_items()_ returns a list of tuples)."
   ]
  },
  {
   "cell_type": "code",
   "execution_count": null,
   "metadata": {
    "collapsed": true
   },
   "outputs": [],
   "source": [
    "customers = {62896715: 'Tel-Aviv', 82631105: 'Jerusalem',\n",
    "             77290611: 'Tel-Aviv', 48801272: 'Tel-Aviv'}"
   ]
  },
  {
   "cell_type": "code",
   "execution_count": null,
   "metadata": {
    "collapsed": true
   },
   "outputs": [],
   "source": [
    "print(list(customers.keys()))\n",
    "print(list(customers.values()))\n",
    "print(list(customers.items()))"
   ]
  },
  {
   "cell_type": "markdown",
   "metadata": {},
   "source": [
    "#### _pop(key)_"
   ]
  },
  {
   "cell_type": "markdown",
   "metadata": {},
   "source": [
    "The method _pop(key)_ removes from the dictionary the **item** whose key is _key_."
   ]
  },
  {
   "cell_type": "code",
   "execution_count": 1,
   "metadata": {
    "collapsed": true
   },
   "outputs": [],
   "source": [
    "friends = {'Avi': ('Eilat', 35),\n",
    "           'Ben': ('Haifa', 28),\n",
    "           'Gil': ('Ashdod', 32)}"
   ]
  },
  {
   "cell_type": "code",
   "execution_count": 2,
   "metadata": {},
   "outputs": [
    {
     "name": "stdout",
     "output_type": "stream",
     "text": [
      "{'Avi': ('Eilat', 35), 'Gil': ('Ashdod', 32)}\n"
     ]
    }
   ],
   "source": [
    "friends.pop('Ben')\n",
    "print(friends)"
   ]
  },
  {
   "cell_type": "markdown",
   "metadata": {},
   "source": [
    "Trying to pop by the item or value will not work."
   ]
  },
  {
   "cell_type": "code",
   "execution_count": 3,
   "metadata": {},
   "outputs": [
    {
     "ename": "KeyError",
     "evalue": "('Eilat', 35)",
     "output_type": "error",
     "traceback": [
      "\u001b[1;31m---------------------------------------------------------------------------\u001b[0m",
      "\u001b[1;31mKeyError\u001b[0m                                  Traceback (most recent call last)",
      "\u001b[1;32m<ipython-input-3-30633d96dbad>\u001b[0m in \u001b[0;36m<module>\u001b[1;34m()\u001b[0m\n\u001b[1;32m----> 1\u001b[1;33m \u001b[0mfriends\u001b[0m\u001b[1;33m.\u001b[0m\u001b[0mpop\u001b[0m\u001b[1;33m(\u001b[0m\u001b[1;33m(\u001b[0m\u001b[1;34m'Eilat'\u001b[0m\u001b[1;33m,\u001b[0m \u001b[1;36m35\u001b[0m\u001b[1;33m)\u001b[0m\u001b[1;33m)\u001b[0m\u001b[1;33m\u001b[0m\u001b[0m\n\u001b[0m",
      "\u001b[1;31mKeyError\u001b[0m: ('Eilat', 35)"
     ]
    }
   ],
   "source": [
    "friends.pop(('Eilat', 35))"
   ]
  },
  {
   "cell_type": "markdown",
   "metadata": {},
   "source": [
    "#### The function _len()_"
   ]
  },
  {
   "cell_type": "markdown",
   "metadata": {},
   "source": [
    "The function _len()_ returns the number of items in the dictionary."
   ]
  },
  {
   "cell_type": "code",
   "execution_count": null,
   "metadata": {
    "collapsed": true
   },
   "outputs": [],
   "source": [
    "print(len(friends))"
   ]
  },
  {
   "cell_type": "markdown",
   "metadata": {},
   "source": [
    "#### The operator _in_"
   ]
  },
  {
   "cell_type": "markdown",
   "metadata": {},
   "source": [
    "The operator _in_, like all the other _dict_ operations, works through the keys, and return _True_ if the element is a key in the dictionary."
   ]
  },
  {
   "cell_type": "code",
   "execution_count": null,
   "metadata": {
    "collapsed": true
   },
   "outputs": [],
   "source": [
    "legs = {'Zebra': 4, 'Spider': 8, 'ant': 6, 'lion': 4,\n",
    "        'chicken': 2, 'man': 2, 'millipede': 'Infinity'}"
   ]
  },
  {
   "cell_type": "code",
   "execution_count": null,
   "metadata": {
    "collapsed": true
   },
   "outputs": [],
   "source": [
    "print('ant' in legs)\n",
    "print(6 in legs)\n",
    "print(('ant', 6) in legs)"
   ]
  },
  {
   "cell_type": "markdown",
   "metadata": {},
   "source": [
    "To compare, the following tests are perform on the corresponding lists."
   ]
  },
  {
   "cell_type": "code",
   "execution_count": null,
   "metadata": {
    "collapsed": true
   },
   "outputs": [],
   "source": [
    "print('ant' in list(legs.keys()))\n",
    "print(6 in list(legs.values())) \n",
    "print(('ant', 6) in list(legs.items()))"
   ]
  },
  {
   "cell_type": "markdown",
   "metadata": {},
   "source": [
    "Since lists are mutable, they can't be keys of a dictionary. This is so fundamental, that an error is raised even before the lookup is performed."
   ]
  },
  {
   "cell_type": "code",
   "execution_count": null,
   "metadata": {
    "collapsed": true
   },
   "outputs": [],
   "source": [
    "print(['ant'] in legs)"
   ]
  },
  {
   "cell_type": "markdown",
   "metadata": {},
   "source": [
    "### Exercise 1"
   ]
  },
  {
   "cell_type": "markdown",
   "metadata": {},
   "source": [
    "1. Create a dictionary with 3 items of the following form:\n",
    "    * key – a letter\n",
    "    * value – a list of words starting with the key letter\n",
    "2. Use the mutability of the dictionary to add a new word to each of the dictionary items without recreating its values.\n",
    "3. Add a new item to the dictionary.\n",
    "4. Remove an item from the dictionary.\n",
    "5. Create a list, whose elements are the lists of words from the dictionary."
   ]
  },
  {
   "cell_type": "markdown",
   "metadata": {},
   "source": [
    "### Exercise 2"
   ]
  },
  {
   "cell_type": "markdown",
   "metadata": {},
   "source": [
    "In this exercise we will construct a complex dictionary step-by-step. Before you start, choose two continents, and from each continent choose two countries.\n",
    "\n",
    "1. For each of the four countries create a list of cities from that country.\n",
    "2. For each of the two continents create a dictionary with two items of the following form:\n",
    "    * key – country name\n",
    "    * value – the list of cities from that country\n",
    "3. Create a new dictionary called _world_\\__dict_ with two items of the following form:\n",
    "    * key – continent name\n",
    "    * value – the dictionary of the key continent"
   ]
  },
  {
   "cell_type": "markdown",
   "metadata": {},
   "source": [
    "> For reference, here is how world_dict should look like:\n",
    "\n",
    "> <img src=\"world_dict.png\" alt=\"World dictionary\" style=\"width: 450px;\"/>"
   ]
  },
  {
   "cell_type": "markdown",
   "metadata": {},
   "source": [
    "## Sets"
   ]
  },
  {
   "cell_type": "markdown",
   "metadata": {},
   "source": [
    "_set_ is a collection object with no order and **no repetitions**.\n",
    "\n",
    "To create a set we usually use the set() constructor, either with or without elements (if elements are specified, they are separated by commas). After creation, all duplications are removed, and the remaining elements are conventionally called **keys**."
   ]
  },
  {
   "cell_type": "code",
   "execution_count": null,
   "metadata": {
    "collapsed": true
   },
   "outputs": [],
   "source": [
    "tour = ['Jerusalem', 'Tel-Aviv', 'Haifa', 'Tel-Aviv', 'Jerusalem']\n",
    "cities = set(tour)\n",
    "print(cities)"
   ]
  },
  {
   "cell_type": "code",
   "execution_count": null,
   "metadata": {
    "collapsed": true
   },
   "outputs": [],
   "source": [
    "word = 'abracadabra'\n",
    "letters = set(word)\n",
    "print(letters)"
   ]
  },
  {
   "cell_type": "markdown",
   "metadata": {},
   "source": [
    "Sets support different operations than what we've seen so far. The full list of operations is listed [here][sets operations], but we will discuss the main ones.\n",
    "\n",
    "[sets operations]:https://docs.python.org/2/library/stdtypes.html#set \"Python documentation for set methods\""
   ]
  },
  {
   "cell_type": "markdown",
   "metadata": {},
   "source": [
    "### Common operations"
   ]
  },
  {
   "cell_type": "markdown",
   "metadata": {},
   "source": [
    "#### _add(x)_ and _remove(x)_"
   ]
  },
  {
   "cell_type": "markdown",
   "metadata": {},
   "source": [
    "The method _add(x)_ adds the element _x_ to the calling set, ignoring the call if _x_ is already in the set."
   ]
  },
  {
   "cell_type": "code",
   "execution_count": null,
   "metadata": {
    "collapsed": true
   },
   "outputs": [],
   "source": [
    "cities.add('Eilat')\n",
    "print(cities)"
   ]
  },
  {
   "cell_type": "code",
   "execution_count": null,
   "metadata": {
    "collapsed": true
   },
   "outputs": [],
   "source": [
    "cities.add('Jerusalem')\n",
    "print(cities)"
   ]
  },
  {
   "cell_type": "markdown",
   "metadata": {},
   "source": [
    "The method _remove(x)_ deletes the element from the calling set, raising an error if _x_ is not in the set."
   ]
  },
  {
   "cell_type": "code",
   "execution_count": null,
   "metadata": {
    "collapsed": true
   },
   "outputs": [],
   "source": [
    "cities.remove('Eilat')\n",
    "print(cities)"
   ]
  },
  {
   "cell_type": "code",
   "execution_count": null,
   "metadata": {
    "collapsed": true
   },
   "outputs": [],
   "source": [
    "cities.remove('Eilat')"
   ]
  },
  {
   "cell_type": "markdown",
   "metadata": {},
   "source": [
    "#### The function _len()_"
   ]
  },
  {
   "cell_type": "markdown",
   "metadata": {},
   "source": [
    "The function _len()_ returns the number of items in the set."
   ]
  },
  {
   "cell_type": "code",
   "execution_count": null,
   "metadata": {
    "collapsed": true
   },
   "outputs": [],
   "source": [
    "print(len(cities))"
   ]
  },
  {
   "cell_type": "markdown",
   "metadata": {},
   "source": [
    "#### The operator _in_"
   ]
  },
  {
   "cell_type": "markdown",
   "metadata": {},
   "source": [
    "The operator _in_ returns _True_ if the element is in the set."
   ]
  },
  {
   "cell_type": "code",
   "execution_count": null,
   "metadata": {
    "collapsed": true
   },
   "outputs": [],
   "source": [
    "print('Tel Aviv' in cities)\n",
    "print('Tel-Aviv' in cities)"
   ]
  },
  {
   "cell_type": "markdown",
   "metadata": {},
   "source": [
    "### The _set_ special operations"
   ]
  },
  {
   "cell_type": "markdown",
   "metadata": {},
   "source": [
    "Sets support several unique operations, which are very useful."
   ]
  },
  {
   "cell_type": "markdown",
   "metadata": {},
   "source": [
    "#### Inclusion"
   ]
  },
  {
   "cell_type": "markdown",
   "metadata": {},
   "source": [
    "We say that a set _A_ is _included_ in a set _B_, or alternatively that _A_ is a subset of _B_ (marked mathematically as $A \\subseteq B$) if all the elements of _A_ are also elements of _B_. This is illustrated below (this kind of visualization is called Venn diagram).\n",
    "\n",
    "<img src=\"inclusion.png\" alt=\"inclusion\" style=\"width: 150px;\"/>\n",
    "\n",
    "The Python implementation of this test is with the same old intuitive less-than ($\\lt$) or less-or-equal-than ($\\le$)."
   ]
  },
  {
   "cell_type": "code",
   "execution_count": 1,
   "metadata": {
    "collapsed": true
   },
   "outputs": [],
   "source": [
    "letters1 = set('pasta')\n",
    "letters2 = set('tractor')\n",
    "letters3 = set('catastrophe')"
   ]
  },
  {
   "cell_type": "code",
   "execution_count": 2,
   "metadata": {},
   "outputs": [
    {
     "name": "stdout",
     "output_type": "stream",
     "text": [
      "{'s', 'p', 'a', 't'}\n",
      "{'a', 'o', 't', 'r', 'c'}\n",
      "False\n"
     ]
    }
   ],
   "source": [
    "print(letters1)\n",
    "print(letters2)\n",
    "print(letters1 < letters2)"
   ]
  },
  {
   "cell_type": "code",
   "execution_count": 3,
   "metadata": {},
   "outputs": [
    {
     "name": "stdout",
     "output_type": "stream",
     "text": [
      "{'s', 'p', 'a', 't'}\n",
      "{'e', 'a', 'o', 's', 't', 'h', 'r', 'c', 'p'}\n",
      "True\n"
     ]
    }
   ],
   "source": [
    "print(letters1)\n",
    "print(letters3)\n",
    "print(letters1 < letters3)"
   ]
  },
  {
   "cell_type": "code",
   "execution_count": 4,
   "metadata": {},
   "outputs": [
    {
     "name": "stdout",
     "output_type": "stream",
     "text": [
      "{'a', 'o', 't', 'r', 'c'}\n",
      "{'e', 'a', 'o', 's', 't', 'h', 'r', 'c', 'p'}\n",
      "True\n"
     ]
    }
   ],
   "source": [
    "print(letters2)\n",
    "print(letters3)\n",
    "print(letters2 < letters3)"
   ]
  },
  {
   "cell_type": "markdown",
   "metadata": {},
   "source": [
    "#### Union"
   ]
  },
  {
   "cell_type": "markdown",
   "metadata": {},
   "source": [
    "The union of _A_ and _B_, the equivalent of the Boolean \"or\", and mathematically signed as $A \\cup B$, is a new set that contains all the elements of _A_ and _B_, removing duplicates of course. In Python it is implemented with a pipeline ('|').\n",
    "\n",
    "<img src=\"union.png\" alt=\"union\" style=\"width: 150px;\"/>"
   ]
  },
  {
   "cell_type": "code",
   "execution_count": null,
   "metadata": {
    "collapsed": true
   },
   "outputs": [],
   "source": [
    "print(letters1)\n",
    "print(letters2)\n",
    "print(letters1 | letters2)"
   ]
  },
  {
   "cell_type": "code",
   "execution_count": null,
   "metadata": {
    "collapsed": true
   },
   "outputs": [],
   "source": [
    "(letters1 | letters2) < letters3"
   ]
  },
  {
   "cell_type": "markdown",
   "metadata": {},
   "source": [
    "#### Intersection"
   ]
  },
  {
   "cell_type": "markdown",
   "metadata": {},
   "source": [
    "The intersection of _A_ and _B_, the equivalent of the Boolean \"and\", and mathematically signed as $A \\cap B$, is a new set that contains only the elements that are common to _A_ and _B_. In Python it is implemented with an ampersand ('&').\n",
    "\n",
    "<img src=\"intersection.png\" alt=\"intersection\" style=\"width: 150px;\"/>"
   ]
  },
  {
   "cell_type": "code",
   "execution_count": null,
   "metadata": {
    "collapsed": true
   },
   "outputs": [],
   "source": [
    "print(letters1)\n",
    "print(letters2)\n",
    "print(letters1 & letters2)"
   ]
  },
  {
   "cell_type": "markdown",
   "metadata": {},
   "source": [
    "#### Subtraction"
   ]
  },
  {
   "cell_type": "markdown",
   "metadata": {},
   "source": [
    "The subtraction of _B_ from _A_ (mathematically signed as $A \\setminus B$) is a new set that contains only the elements of _A_ that are **not** in _B_. This is also called sometimes the \"difference\" between _A_ and _B_, but this terminology is confusing because of the symmetry. In Python it is implemented with the standard minus sign.\n",
    "\n",
    "<img src=\"difference.png\" alt=\"difference\" style=\"width: 150px;\"/>"
   ]
  },
  {
   "cell_type": "code",
   "execution_count": null,
   "metadata": {
    "collapsed": true
   },
   "outputs": [],
   "source": [
    "print(letters1)\n",
    "print(letters2)\n",
    "print(letters2 - letters1)\n",
    "print(letters1 - letters2)"
   ]
  },
  {
   "cell_type": "markdown",
   "metadata": {},
   "source": [
    "#### Symmetric difference"
   ]
  },
  {
   "cell_type": "markdown",
   "metadata": {},
   "source": [
    "The symmetric difference of _A_ and _B_, the equivalent of the Boolean \"exclusive or\" (xor), and mathematically signed as $A \\oplus B$), is a new set that contains only the elements of _A_ that are not in _B_ **and** the elements of _B_ that are not in _A_. In Python it is implemented with a caret (' ^ ').\n",
    "\n",
    "<img src=\"symmetric_difference.png\" alt=\"symmetric_difference\" style=\"width: 150px;\"/>"
   ]
  },
  {
   "cell_type": "code",
   "execution_count": null,
   "metadata": {
    "collapsed": true
   },
   "outputs": [],
   "source": [
    "print(letters1)\n",
    "print(letters2)\n",
    "print(letters1 ^ letters2)"
   ]
  },
  {
   "cell_type": "markdown",
   "metadata": {},
   "source": [
    "### Exercise 1"
   ]
  },
  {
   "cell_type": "markdown",
   "metadata": {},
   "source": [
    "Create two strings and write a code that prints the number of their common letters (excluding duplicates).\n",
    "\n",
    "> For example the result for 'abracadabra' and 'barbarian' is 3 ('a', 'b' & 'r')."
   ]
  },
  {
   "cell_type": "markdown",
   "metadata": {},
   "source": [
    "### Exercise 2"
   ]
  },
  {
   "cell_type": "markdown",
   "metadata": {},
   "source": [
    "You are given three lists, recording the visitors of the museum on Sunday, Monday and Tuesday. Note that a visitor might appear more than once even on thhe same day. Answer the following questions:\n",
    "\n",
    "1. Create sets for the unique visitors for each day and for the entire three days (4 sets in total).\n",
    "2. Is there a day, that every visitor of that day, had also visited on another day?\n",
    "3. Which visitors visited the museum on more than a single day? Which visitors visited every day??\n",
    "4. Which visitors visited the museum **only** on Tuesday?\n",
    "5. Which visitors visited **exactly** on one of the days Sunday and Monday?"
   ]
  },
  {
   "cell_type": "code",
   "execution_count": null,
   "metadata": {
    "collapsed": true
   },
   "outputs": [],
   "source": [
    "sunday_visitors = ['abe', 'bob', 'carl', 'dave', 'ed',\n",
    "                   'heinrich', 'isabel', 'abe', 'fred']\n",
    "monday_visitors = ['abe', 'gale', 'ed', 'fred']\n",
    "tuesday_visitors = ['ed', 'bob', 'jack', 'fred', 'abe',\n",
    "                    'abe', 'jack', 'kent', 'gale']"
   ]
  }
 ],
 "metadata": {
  "anaconda-cloud": {},
  "kernelspec": {
   "display_name": "Python 3",
   "language": "python",
   "name": "python3"
  },
  "language_info": {
   "codemirror_mode": {
    "name": "ipython",
    "version": 3
   },
   "file_extension": ".py",
   "mimetype": "text/x-python",
   "name": "python",
   "nbconvert_exporter": "python",
   "pygments_lexer": "ipython3",
   "version": "3.6.3"
  }
 },
 "nbformat": 4,
 "nbformat_minor": 1
}
