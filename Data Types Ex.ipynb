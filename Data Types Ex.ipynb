{
 "cells": [
  {
   "cell_type": "code",
   "execution_count": null,
   "metadata": {
    "collapsed": true
   },
   "outputs": [],
   "source": [
    "#Exercise 1\n",
    "height = 1.75\n",
    "weight = 90\n",
    "bmi = weight/height**2\n",
    "print ('My height is %d meters,' %height + '\\n my weight is %d kgs,' %weight + '\\n and my BMI is %d.' %bmi)"
   ]
  },
  {
   "cell_type": "code",
   "execution_count": 2,
   "metadata": {},
   "outputs": [
    {
     "name": "stdout",
     "output_type": "stream",
     "text": [
      "Fernando Turn\n",
      "Fernando Turn\n",
      "FErnAndO TUrn\n"
     ]
    }
   ],
   "source": [
    "#Exercise 2\n",
    "\n",
    "import string\n",
    "first_name = 'Fernando'\n",
    "last_name = 'Turn'\n",
    "len (first_name)\n",
    "full_name =str(first_name + ' ' + last_name)\n",
    "print (full_name)\n",
    "vowels = str('a,e,i,o,u')\n",
    "\n",
    "\n",
    "#with loop\n",
    "#for i in vowels: \n",
    " #  full_name = full_name.replace(i,i.upper())\n",
    "\n",
    "#without loop    \n",
    "full_name_upper = full_name.replace('a','A').replace('e', 'E').replace('i', 'I').replace('o', 'O').replace('u', 'U')\n",
    "\n",
    "print (full_name)\n",
    "print (full_name_upper)"
   ]
  },
  {
   "cell_type": "code",
   "execution_count": 1,
   "metadata": {},
   "outputs": [
    {
     "name": "stdout",
     "output_type": "stream",
     "text": [
      "True False True True\n"
     ]
    }
   ],
   "source": [
    "#Exercise 3\n",
    "#Define variables\n",
    "my_gender = str('male')\n",
    "her_gender = str('female')\n",
    "my_age = int(43)\n",
    "her_age = int(41)\n",
    "my_city = str('tlv')\n",
    "her_city = str('tlv')\n",
    "my_mar_st = 'marry'\n",
    "her_mar_st = 'marry'\n",
    "\n",
    "#Define bool\n",
    "same_city = my_city==her_city\n",
    "is_older = my_age<her_age\n",
    "diff_gender = my_gender!=her_gender \n",
    "both_married = my_mar_st==her_mar_st\n",
    "#Print Results\n",
    "print(same_city,is_older,diff_gender,both_married)"
   ]
  },
  {
   "cell_type": "code",
   "execution_count": null,
   "metadata": {
    "collapsed": true
   },
   "outputs": [],
   "source": []
  }
 ],
 "metadata": {
  "kernelspec": {
   "display_name": "Python 3",
   "language": "python",
   "name": "python3"
  },
  "language_info": {
   "codemirror_mode": {
    "name": "ipython",
    "version": 3
   },
   "file_extension": ".py",
   "mimetype": "text/x-python",
   "name": "python",
   "nbconvert_exporter": "python",
   "pygments_lexer": "ipython3",
   "version": "3.6.3"
  }
 },
 "nbformat": 4,
 "nbformat_minor": 2
}
