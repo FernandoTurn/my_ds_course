{
 "cells": [
  {
   "cell_type": "code",
   "execution_count": null,
   "metadata": {},
   "outputs": [
    {
     "name": "stdout",
     "output_type": "stream",
     "text": [
      "Socket created\n",
      "Socket bind complete\n",
      "Socket now listening\n"
     ]
    }
   ],
   "source": [
    "'''    Simple socket server using threads\n",
    "'''\n",
    "import socket\n",
    "import sys\n",
    "HOST = ''   # Symbolic name, meaning all available interfaces\n",
    "PORT = 5500 # Arbitrary non-privileged port\n",
    "s = socket.socket(socket.AF_INET, socket.SOCK_STREAM)\n",
    "print ('Socket created')\n",
    "#Bind socket to local host and port\n",
    "try:\n",
    "    s.bind((HOST, PORT))\n",
    "except socket.error as msg:\n",
    "    print ('Bind failed. Error Code : ' + str(msg[0]) + ' Message ' + msg[1])\n",
    "    sys.exit()\n",
    "print ('Socket bind complete')\n",
    "      #Start listening on socket\n",
    "s.listen(10)\n",
    "print ('Socket now listening')\n",
    "#now keep talking with the client\n",
    "while 1:\n",
    "    #wait to accept a connection - blocking call\n",
    "    conn, addr = s.accept()\n",
    "    print ('Connected with ' + addr[0] + ':' + str(addr[1]))\n",
    "s.close()"
   ]
  },
  {
   "cell_type": "code",
   "execution_count": null,
   "metadata": {
    "collapsed": true
   },
   "outputs": [],
   "source": []
  }
 ],
 "metadata": {
  "kernelspec": {
   "display_name": "Python 3",
   "language": "python",
   "name": "python3"
  },
  "language_info": {
   "codemirror_mode": {
    "name": "ipython",
    "version": 3
   },
   "file_extension": ".py",
   "mimetype": "text/x-python",
   "name": "python",
   "nbconvert_exporter": "python",
   "pygments_lexer": "ipython3",
   "version": "3.6.3"
  }
 },
 "nbformat": 4,
 "nbformat_minor": 2
}
