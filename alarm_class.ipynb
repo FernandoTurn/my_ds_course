{
 "cells": [
  {
   "cell_type": "code",
   "execution_count": 7,
   "metadata": {},
   "outputs": [],
   "source": [
    "import time # import the time package\n",
    "import winsound"
   ]
  },
  {
   "cell_type": "code",
   "execution_count": 2,
   "metadata": {
    "collapsed": true
   },
   "outputs": [],
   "source": [
    "SESSION_DURAION_MINUTES = 60 # number of minutes in one session\n",
    "BREAK_DURATION_MINUTES = 10 # duration of the break in minuts\n",
    "N_SESSIONS = 4 # duration of one date of the course in minutes\n",
    "BEEP_DURATION_IN_MSEC = 1000\n",
    "SECONDS_IN_A_MINUTE = 60\n",
    "FREQ_HZ = 500"
   ]
  },
  {
   "cell_type": "code",
   "execution_count": 3,
   "metadata": {},
   "outputs": [],
   "source": [
    "winsound.Beep(FREQ_HZ, BEEP_DURATION_IN_MSEC) # for testing"
   ]
  },
  {
   "cell_type": "code",
   "execution_count": 10,
   "metadata": {},
   "outputs": [],
   "source": [
    "net_session_duration = SESSION_DURAION_MINUTES - BREAK_DURATION_MINUTES # minutes of one session without the break\n",
    "# NOT DRY!!!!:\n",
    "# for i_session in range(N_SESSIONS): # for i_session from 0 to n_session_in_a_date-1 \n",
    "#     # start session\n",
    "#     print('session begins!')\n",
    "#     winsound.Beep(FREQ_HZ, BEEP_DURATION_IN_MSEC)\n",
    "#     time.sleep(net_session_duration * SECONDS_IN_A_MINUTE) # sleep throught the session\n",
    "#     print('end of session!')\n",
    "    \n",
    "#     # start break\n",
    "#     print('<WORD> begins!')\n",
    "#     winsound.Beep(FREQ_HZ, BEEP_DURATION_IN_MSEC)\n",
    "#     time.sleep(BREAK_DURATION_MINUTES * SECONDS_IN_A_MINUTE) # sleep throught the break\n",
    "#     print('end of break!')\n",
    "    \n",
    "# DRY:\n",
    "for i_session in range(N_SESSIONS):\n",
    "    # print start of session, sleep and print end of session:\n",
    "    print_start_sleep_print_end(\"session\", net_session_duration * SECONDS_IN_A_MINUTE) \n",
    "    # print start of session, sleep and print end of break:\n",
    "    print_start_sleep_print_end(\"break\", BREAK_DURATION_MINUTES * SECONDS_IN_A_MINUTE) \n",
    "\n",
    "    \n",
    "    \n",
    "    \n",
    "    \n",
    "    \n",
    "def print_start_sleep_print_end(title, sleep_duration_in_seconds):\n",
    "    print('%s start!' % title)\n",
    "    winsound.Beep(FREQ_HZ, BEEP_DURATION_IN_MSEC)\n",
    "    time.sleep(sleep_duration_in_seconds)\n",
    "    print('%s finish!' % title)\n"
   ]
  },
  {
   "cell_type": "code",
   "execution_count": null,
   "metadata": {
    "collapsed": true
   },
   "outputs": [],
   "source": [
    "# STYLE GUIDE: How to write code in a standard way. Here we use CAPITALS for CONSTANTS\n",
    "# Avoid dependencies between CONSTS"
   ]
  },
  {
   "cell_type": "code",
   "execution_count": null,
   "metadata": {},
   "outputs": [],
   "source": [
    "print(2//3) # integer division \n",
    "print(2%3) # integer modulus "
   ]
  },
  {
   "cell_type": "code",
   "execution_count": 8,
   "metadata": {},
   "outputs": [],
   "source": [
    "??time.sleep # how to get help for a method"
   ]
  },
  {
   "cell_type": "code",
   "execution_count": 9,
   "metadata": {},
   "outputs": [
    {
     "name": "stdout",
     "output_type": "stream",
     "text": [
      "Help on built-in function sleep in module time:\n",
      "\n",
      "sleep(...)\n",
      "    sleep(seconds)\n",
      "    \n",
      "    Delay execution for a given number of seconds.  The argument may be\n",
      "    a floating point number for subsecond precision.\n",
      "\n"
     ]
    }
   ],
   "source": [
    "help(time.sleep)"
   ]
  },
  {
   "cell_type": "code",
   "execution_count": null,
   "metadata": {
    "collapsed": true
   },
   "outputs": [],
   "source": []
  }
 ],
 "metadata": {
  "kernelspec": {
   "display_name": "Python 3",
   "language": "python",
   "name": "python3"
  },
  "language_info": {
   "codemirror_mode": {
    "name": "ipython",
    "version": 3
   },
   "file_extension": ".py",
   "mimetype": "text/x-python",
   "name": "python",
   "nbconvert_exporter": "python",
   "pygments_lexer": "ipython3",
   "version": "3.6.3"
  }
 },
 "nbformat": 4,
 "nbformat_minor": 2
}
